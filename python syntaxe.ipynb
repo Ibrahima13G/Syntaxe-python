{
 "cells": [
  {
   "cell_type": "code",
   "execution_count": 21,
   "id": "0ae9a901",
   "metadata": {},
   "outputs": [
    {
     "name": "stdout",
     "output_type": "stream",
     "text": [
      "le type de pizzagr_pizza\n",
      "vous avez choisi une pizza gr_pizza et le prix est 25\n",
      "voulez vous du pepperonnioui\n",
      "votre facture est de 28\n",
      "voulez vous du fromageoui\n",
      " votre facture est de 29\n"
     ]
    }
   ],
   "source": [
    "petit_pizza=15\n",
    "moyenne_pizza=20\n",
    "grande_pizza=25\n",
    "pepperoni_prix=2\n",
    "pepperoni_pprix=3\n",
    "fromage_prix=1\n",
    "facture=0\n",
    "pizza=input(\"le type de pizza\")\n",
    "if pizza==\"pe_pizza\":\n",
    "    print(f\"vous avez choisi une pizza {pizza} et le prix est {pe_pizza}\")\n",
    "    pepperoni_pe=input(\"voulez vous du pepperonni\")\n",
    "    if pepperoni_pe==\"oui\":\n",
    "        facture =petit_pizza + pepperoni_prix\n",
    "        print(f\" votre facture est de : {facture}\" )\n",
    "    elif pepperoni_pe==\"non\":\n",
    "        facture = petit_pizza\n",
    "        print(f\"votre facture est de:{facture}\")\n",
    "    else :\n",
    "        print (\"veuillez choisir oui ou non\")\n",
    "elif pizza== \"moy_pizza\": \n",
    "    print(f\" votre facture est de : {facture} et le prix est {moy_pizza}\")\n",
    "    pepperoni_moy_gr=input(\"voulez vous du pepperonni\")\n",
    "    if pepperoni_moy_gr==\"oui\":\n",
    "        facture = moyenne_pizza + pepperoni_pprix  \n",
    "        print(f\"votre facture est de: {facture} \")\n",
    "    elif pepperoni_moy_gr==\"non\":\n",
    "        facture= moyenne_pizza\n",
    "        print(f\"votre facture est de:{facture}\")\n",
    "    else :\n",
    "         print (\"veuillez choisir oui ou non\")                  \n",
    "elif pizza==\"gr_pizza\":\n",
    "    print(f\"vous avez choisi une pizza {pizza} et le prix est {gr_pizza}\")\n",
    "    pepperoni_moy_gr=input(\"voulez vous du pepperonni\") \n",
    "    if pepperoni_moy_gr==\"oui\":\n",
    "        facture = grande_pizza + pepperoni_pprix\n",
    "        print(f\"votre facture est de {facture}\")\n",
    "    elif pepperoni_moy_gr==\"non\":\n",
    "        facture=grande_pizza\n",
    "        print(f\"votre facture est de: {facture} \")\n",
    "    else:\n",
    "        print(\"veuillez choisir oui ou non\")\n",
    "else:\n",
    "    print(f\"vous avez choisi autre que de la pizza\")        \n",
    "fromage=input(\"voulez vous du fromage\")\n",
    "if fromage==\"oui\":\n",
    "    facture=facture+fromage_prix\n",
    "    print(f\" votre facture est de {facture}\")\n",
    "elif fromage==\"non\":\n",
    "    facture=facture\n",
    "else:\n",
    "    print(\"veuillez choisir autre que oui ou non\")\n",
    "\n"
   ]
  },
  {
   "cell_type": "code",
   "execution_count": null,
   "id": "29dd7da6",
   "metadata": {},
   "outputs": [],
   "source": []
  }
 ],
 "metadata": {
  "kernelspec": {
   "display_name": "Python 3 (ipykernel)",
   "language": "python",
   "name": "python3"
  },
  "language_info": {
   "codemirror_mode": {
    "name": "ipython",
    "version": 3
   },
   "file_extension": ".py",
   "mimetype": "text/x-python",
   "name": "python",
   "nbconvert_exporter": "python",
   "pygments_lexer": "ipython3",
   "version": "3.9.13"
  }
 },
 "nbformat": 4,
 "nbformat_minor": 5
}
